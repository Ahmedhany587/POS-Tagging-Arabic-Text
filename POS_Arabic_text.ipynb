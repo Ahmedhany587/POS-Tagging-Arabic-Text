{
  "nbformat": 4,
  "nbformat_minor": 0,
  "metadata": {
    "colab": {
      "provenance": [],
      "collapsed_sections": [
        "zxjpksCbFDa6"
      ]
    },
    "kernelspec": {
      "name": "python3",
      "display_name": "Python 3"
    },
    "language_info": {
      "name": "python"
    }
  },
  "cells": [
    {
      "cell_type": "markdown",
      "source": [
        "#Downloading and Importing Dependecies\n"
      ],
      "metadata": {
        "id": "srB8VNDjw2e7"
      }
    },
    {
      "cell_type": "code",
      "source": [
        "import networkx as nx\n",
        "import plotly.graph_objects as go\n"
      ],
      "metadata": {
        "id": "cC4rBO02BfkS"
      },
      "execution_count": null,
      "outputs": []
    },
    {
      "cell_type": "code",
      "source": [
        "!pip install requests\n",
        "nltk.download('averaged_perceptron_tagger')\n",
        "nltk.download('semcor')\n",
        "nltk.download('conll2000')\n",
        "nltk.download('conll2002')"
      ],
      "metadata": {
        "colab": {
          "base_uri": "https://localhost:8080/"
        },
        "id": "TINH4rhuEXcZ",
        "outputId": "7c921e26-6238-4ca1-9f3e-9bf32769064d"
      },
      "execution_count": null,
      "outputs": [
        {
          "output_type": "stream",
          "name": "stdout",
          "text": [
            "Looking in indexes: https://pypi.org/simple, https://us-python.pkg.dev/colab-wheels/public/simple/\n",
            "Requirement already satisfied: requests in /usr/local/lib/python3.10/dist-packages (2.27.1)\n",
            "Requirement already satisfied: urllib3<1.27,>=1.21.1 in /usr/local/lib/python3.10/dist-packages (from requests) (1.26.15)\n",
            "Requirement already satisfied: certifi>=2017.4.17 in /usr/local/lib/python3.10/dist-packages (from requests) (2022.12.7)\n",
            "Requirement already satisfied: charset-normalizer~=2.0.0 in /usr/local/lib/python3.10/dist-packages (from requests) (2.0.12)\n",
            "Requirement already satisfied: idna<4,>=2.5 in /usr/local/lib/python3.10/dist-packages (from requests) (3.4)\n"
          ]
        },
        {
          "output_type": "stream",
          "name": "stderr",
          "text": [
            "[nltk_data] Downloading package averaged_perceptron_tagger to\n",
            "[nltk_data]     /root/nltk_data...\n",
            "[nltk_data]   Package averaged_perceptron_tagger is already up-to-\n",
            "[nltk_data]       date!\n",
            "[nltk_data] Downloading package semcor to /root/nltk_data...\n",
            "[nltk_data]   Package semcor is already up-to-date!\n",
            "[nltk_data] Downloading package conll2000 to /root/nltk_data...\n",
            "[nltk_data]   Package conll2000 is already up-to-date!\n",
            "[nltk_data] Downloading package conll2002 to /root/nltk_data...\n",
            "[nltk_data]   Package conll2002 is already up-to-date!\n"
          ]
        },
        {
          "output_type": "execute_result",
          "data": {
            "text/plain": [
              "True"
            ]
          },
          "metadata": {},
          "execution_count": 69
        }
      ]
    },
    {
      "cell_type": "code",
      "source": [
        "!pip install python-crfsuite\n"
      ],
      "metadata": {
        "colab": {
          "base_uri": "https://localhost:8080/"
        },
        "id": "Hwgb5glx62Nr",
        "outputId": "f85a91ec-f444-46b6-bbdb-1ad13a55d0a1"
      },
      "execution_count": null,
      "outputs": [
        {
          "output_type": "stream",
          "name": "stdout",
          "text": [
            "Looking in indexes: https://pypi.org/simple, https://us-python.pkg.dev/colab-wheels/public/simple/\n",
            "Requirement already satisfied: python-crfsuite in /usr/local/lib/python3.10/dist-packages (0.9.9)\n"
          ]
        }
      ]
    },
    {
      "cell_type": "code",
      "source": [
        "import nltk\n",
        "from sklearn.model_selection import train_test_split\n",
        "import requests\n",
        "import pandas as pd\n",
        "import json\n",
        "import nltk\n",
        "from sklearn.model_selection import train_test_split"
      ],
      "metadata": {
        "id": "7yXDosJOwypo"
      },
      "execution_count": null,
      "outputs": []
    },
    {
      "cell_type": "code",
      "source": [
        "from nltk.tag import CRFTagger"
      ],
      "metadata": {
        "id": "KwhbooTq5rvn"
      },
      "execution_count": null,
      "outputs": []
    },
    {
      "cell_type": "code",
      "source": [
        "nltk.download('punkt')\n"
      ],
      "metadata": {
        "colab": {
          "base_uri": "https://localhost:8080/"
        },
        "id": "gGr01PE9vAXL",
        "outputId": "f04b186d-870c-49e6-8049-540634338274"
      },
      "execution_count": null,
      "outputs": [
        {
          "output_type": "stream",
          "name": "stderr",
          "text": [
            "[nltk_data] Downloading package punkt to /root/nltk_data...\n",
            "[nltk_data]   Package punkt is already up-to-date!\n"
          ]
        },
        {
          "output_type": "execute_result",
          "data": {
            "text/plain": [
              "True"
            ]
          },
          "metadata": {},
          "execution_count": 72
        }
      ]
    },
    {
      "cell_type": "markdown",
      "source": [
        "# Requesting Data From API"
      ],
      "metadata": {
        "id": "zxjpksCbFDa6"
      }
    },
    {
      "cell_type": "code",
      "source": [
        "import requests\n",
        "\n",
        "# The URL from which the dataset will be downloaded\n",
        "url = \"https://datasets-server.huggingface.co/rows?dataset=arabic_pos_dialect&config=egy&split=train&offset=0&limit=100\"\n",
        "\n",
        "# Send a GET request to the specified URL\n",
        "response = requests.get(url)\n",
        "\n",
        "# Check if the response status code is 200 (indicating a successful request)\n",
        "if response.status_code == 200:\n",
        "    # If the request was successful, open a file named \"arabic_pos_dialect.json\" in write binary mode\n",
        "    with open(\"arabic_pos_dialect.json\", \"wb\") as f:\n",
        "        # Write the content of the response (dataset) to the file\n",
        "        f.write(response.content)\n",
        "else:\n",
        "    # If the request was not successful (status code is not 200), print an error message\n",
        "    print(\"Error downloading dataset\")\n"
      ],
      "metadata": {
        "id": "vRs9kPg3ntdu"
      },
      "execution_count": null,
      "outputs": []
    },
    {
      "cell_type": "code",
      "source": [
        "import json\n",
        "\n",
        "# Open the JSON file in read mode\n",
        "with open('/content/arabic_pos_dialect.json') as file:\n",
        "    # Load the content of the JSON file into the 'data' variable\n",
        "    data = json.load(file)\n"
      ],
      "metadata": {
        "id": "KsYWEVpWompl"
      },
      "execution_count": null,
      "outputs": []
    },
    {
      "cell_type": "code",
      "source": [
        "# Extract the value associated with the key 'features' from the loaded JSON data and assign it to the variable 'features'. Represents information about the features of the dataset.\n",
        "features = data['features']\n",
        "\n",
        "\n",
        "# Extract the value associated with the key 'rows' from the loaded JSON data and assign it to the variable 'rows'. Represents the actual data rows of the dataset.\n",
        "rows = data['rows']"
      ],
      "metadata": {
        "id": "Gl0enN60pAGS"
      },
      "execution_count": null,
      "outputs": []
    },
    {
      "cell_type": "code",
      "source": [
        "extracted_data = {}  # Initialize an empty dictionary named 'extracted_data'\n"
      ],
      "metadata": {
        "id": "In-my2emqVZM"
      },
      "execution_count": null,
      "outputs": []
    },
    {
      "cell_type": "code",
      "source": [
        "for feature in features:\n",
        "    feature_name = feature['name']  # Extract the name of the feature from the current feature dictionary\n",
        "    extracted_data[feature_name] = []  # Initialize an empty list in the extracted_data dictionary for the current feature\n",
        "\n",
        "    for row in rows:\n",
        "        extracted_data[feature_name].append(row['row'][feature_name])  # Extract the value for the current feature from each row and append it to the corresponding list in extracted_data\n"
      ],
      "metadata": {
        "id": "1yugLD5NqXL8"
      },
      "execution_count": null,
      "outputs": []
    },
    {
      "cell_type": "code",
      "source": [
        "#convert to dataframe\n",
        "df = pd.DataFrame(extracted_data)"
      ],
      "metadata": {
        "id": "aMJWrveVqZMV"
      },
      "execution_count": null,
      "outputs": []
    },
    {
      "cell_type": "code",
      "source": [
        "df.head()"
      ],
      "metadata": {
        "colab": {
          "base_uri": "https://localhost:8080/",
          "height": 206
        },
        "id": "msoCJQSmqbMQ",
        "outputId": "e9e497e3-cef5-48c1-aa85-4091ddaf27ca"
      },
      "execution_count": null,
      "outputs": [
        {
          "output_type": "execute_result",
          "data": {
            "text/plain": [
              "   fold subfold                                              words  \\\n",
              "0     4       A  [ليه, لما, تحب, حد, من, قلبك, يطلع, واطى, ليه,...   \n",
              "1     4       A  [عارف, بيقولك, ايه, \", إذا, أخطأت, فأحسن, \", ....   \n",
              "2     3       A  [الحمد, لله, يا, جدعان, الفرسان, اللي, اتمسكوا...   \n",
              "3     1       A  [بحس, بشخصيتي, القوية, لما, اقول, لاخويا, اعمل...   \n",
              "4     5       A  [@ahmedabodsheesh, يا, باشا, دي, مش, محتاجه, د...   \n",
              "\n",
              "                                            segments  \\\n",
              "0  [ليه, لما, تحب, حد, من, قلب+ك, يطلع, واطى, ليه...   \n",
              "1  [عارف, ب+يقو+ل+ك, ايه, \", إذا, أخطأ+ت, ف+أحسن,...   \n",
              "2  [ال+حمد, ل+الله, يا, جدعان, ال+فرسان, اللي, ات...   \n",
              "3  [ب+حس, ب+شخصي+ت+ي, ال+قوي+ة, لما, اقول, ل+اخو+...   \n",
              "4  [@ahmedabodsheesh, يا, باشا, دي, مش, محتاج+ه, ...   \n",
              "\n",
              "                                            pos_tags  \n",
              "0  [PART, PART, V, NOUN, PREP, NOUN+PRON, V, ADJ,...  \n",
              "1  [ADJ, PROG_PART+V+PREP+PRON, PART, PUNC, PART,...  \n",
              "2  [DET+NOUN, PREP+NOUN, PART, NOUN, DET+NOUN, PA...  \n",
              "3  [PROG_PART+V, PREP+NOUN+NSUFF+PRON, DET+ADJ+NS...  \n",
              "4  [MENTION, PART, NOUN, PRON, PART, ADJ+NSUFF, N...  "
            ],
            "text/html": [
              "\n",
              "  <div id=\"df-172a187d-b28b-4eb3-807e-778c68d471aa\">\n",
              "    <div class=\"colab-df-container\">\n",
              "      <div>\n",
              "<style scoped>\n",
              "    .dataframe tbody tr th:only-of-type {\n",
              "        vertical-align: middle;\n",
              "    }\n",
              "\n",
              "    .dataframe tbody tr th {\n",
              "        vertical-align: top;\n",
              "    }\n",
              "\n",
              "    .dataframe thead th {\n",
              "        text-align: right;\n",
              "    }\n",
              "</style>\n",
              "<table border=\"1\" class=\"dataframe\">\n",
              "  <thead>\n",
              "    <tr style=\"text-align: right;\">\n",
              "      <th></th>\n",
              "      <th>fold</th>\n",
              "      <th>subfold</th>\n",
              "      <th>words</th>\n",
              "      <th>segments</th>\n",
              "      <th>pos_tags</th>\n",
              "    </tr>\n",
              "  </thead>\n",
              "  <tbody>\n",
              "    <tr>\n",
              "      <th>0</th>\n",
              "      <td>4</td>\n",
              "      <td>A</td>\n",
              "      <td>[ليه, لما, تحب, حد, من, قلبك, يطلع, واطى, ليه,...</td>\n",
              "      <td>[ليه, لما, تحب, حد, من, قلب+ك, يطلع, واطى, ليه...</td>\n",
              "      <td>[PART, PART, V, NOUN, PREP, NOUN+PRON, V, ADJ,...</td>\n",
              "    </tr>\n",
              "    <tr>\n",
              "      <th>1</th>\n",
              "      <td>4</td>\n",
              "      <td>A</td>\n",
              "      <td>[عارف, بيقولك, ايه, \", إذا, أخطأت, فأحسن, \", ....</td>\n",
              "      <td>[عارف, ب+يقو+ل+ك, ايه, \", إذا, أخطأ+ت, ف+أحسن,...</td>\n",
              "      <td>[ADJ, PROG_PART+V+PREP+PRON, PART, PUNC, PART,...</td>\n",
              "    </tr>\n",
              "    <tr>\n",
              "      <th>2</th>\n",
              "      <td>3</td>\n",
              "      <td>A</td>\n",
              "      <td>[الحمد, لله, يا, جدعان, الفرسان, اللي, اتمسكوا...</td>\n",
              "      <td>[ال+حمد, ل+الله, يا, جدعان, ال+فرسان, اللي, ات...</td>\n",
              "      <td>[DET+NOUN, PREP+NOUN, PART, NOUN, DET+NOUN, PA...</td>\n",
              "    </tr>\n",
              "    <tr>\n",
              "      <th>3</th>\n",
              "      <td>1</td>\n",
              "      <td>A</td>\n",
              "      <td>[بحس, بشخصيتي, القوية, لما, اقول, لاخويا, اعمل...</td>\n",
              "      <td>[ب+حس, ب+شخصي+ت+ي, ال+قوي+ة, لما, اقول, ل+اخو+...</td>\n",
              "      <td>[PROG_PART+V, PREP+NOUN+NSUFF+PRON, DET+ADJ+NS...</td>\n",
              "    </tr>\n",
              "    <tr>\n",
              "      <th>4</th>\n",
              "      <td>5</td>\n",
              "      <td>A</td>\n",
              "      <td>[@ahmedabodsheesh, يا, باشا, دي, مش, محتاجه, د...</td>\n",
              "      <td>[@ahmedabodsheesh, يا, باشا, دي, مش, محتاج+ه, ...</td>\n",
              "      <td>[MENTION, PART, NOUN, PRON, PART, ADJ+NSUFF, N...</td>\n",
              "    </tr>\n",
              "  </tbody>\n",
              "</table>\n",
              "</div>\n",
              "      <button class=\"colab-df-convert\" onclick=\"convertToInteractive('df-172a187d-b28b-4eb3-807e-778c68d471aa')\"\n",
              "              title=\"Convert this dataframe to an interactive table.\"\n",
              "              style=\"display:none;\">\n",
              "        \n",
              "  <svg xmlns=\"http://www.w3.org/2000/svg\" height=\"24px\"viewBox=\"0 0 24 24\"\n",
              "       width=\"24px\">\n",
              "    <path d=\"M0 0h24v24H0V0z\" fill=\"none\"/>\n",
              "    <path d=\"M18.56 5.44l.94 2.06.94-2.06 2.06-.94-2.06-.94-.94-2.06-.94 2.06-2.06.94zm-11 1L8.5 8.5l.94-2.06 2.06-.94-2.06-.94L8.5 2.5l-.94 2.06-2.06.94zm10 10l.94 2.06.94-2.06 2.06-.94-2.06-.94-.94-2.06-.94 2.06-2.06.94z\"/><path d=\"M17.41 7.96l-1.37-1.37c-.4-.4-.92-.59-1.43-.59-.52 0-1.04.2-1.43.59L10.3 9.45l-7.72 7.72c-.78.78-.78 2.05 0 2.83L4 21.41c.39.39.9.59 1.41.59.51 0 1.02-.2 1.41-.59l7.78-7.78 2.81-2.81c.8-.78.8-2.07 0-2.86zM5.41 20L4 18.59l7.72-7.72 1.47 1.35L5.41 20z\"/>\n",
              "  </svg>\n",
              "      </button>\n",
              "      \n",
              "  <style>\n",
              "    .colab-df-container {\n",
              "      display:flex;\n",
              "      flex-wrap:wrap;\n",
              "      gap: 12px;\n",
              "    }\n",
              "\n",
              "    .colab-df-convert {\n",
              "      background-color: #E8F0FE;\n",
              "      border: none;\n",
              "      border-radius: 50%;\n",
              "      cursor: pointer;\n",
              "      display: none;\n",
              "      fill: #1967D2;\n",
              "      height: 32px;\n",
              "      padding: 0 0 0 0;\n",
              "      width: 32px;\n",
              "    }\n",
              "\n",
              "    .colab-df-convert:hover {\n",
              "      background-color: #E2EBFA;\n",
              "      box-shadow: 0px 1px 2px rgba(60, 64, 67, 0.3), 0px 1px 3px 1px rgba(60, 64, 67, 0.15);\n",
              "      fill: #174EA6;\n",
              "    }\n",
              "\n",
              "    [theme=dark] .colab-df-convert {\n",
              "      background-color: #3B4455;\n",
              "      fill: #D2E3FC;\n",
              "    }\n",
              "\n",
              "    [theme=dark] .colab-df-convert:hover {\n",
              "      background-color: #434B5C;\n",
              "      box-shadow: 0px 1px 3px 1px rgba(0, 0, 0, 0.15);\n",
              "      filter: drop-shadow(0px 1px 2px rgba(0, 0, 0, 0.3));\n",
              "      fill: #FFFFFF;\n",
              "    }\n",
              "  </style>\n",
              "\n",
              "      <script>\n",
              "        const buttonEl =\n",
              "          document.querySelector('#df-172a187d-b28b-4eb3-807e-778c68d471aa button.colab-df-convert');\n",
              "        buttonEl.style.display =\n",
              "          google.colab.kernel.accessAllowed ? 'block' : 'none';\n",
              "\n",
              "        async function convertToInteractive(key) {\n",
              "          const element = document.querySelector('#df-172a187d-b28b-4eb3-807e-778c68d471aa');\n",
              "          const dataTable =\n",
              "            await google.colab.kernel.invokeFunction('convertToInteractive',\n",
              "                                                     [key], {});\n",
              "          if (!dataTable) return;\n",
              "\n",
              "          const docLinkHtml = 'Like what you see? Visit the ' +\n",
              "            '<a target=\"_blank\" href=https://colab.research.google.com/notebooks/data_table.ipynb>data table notebook</a>'\n",
              "            + ' to learn more about interactive tables.';\n",
              "          element.innerHTML = '';\n",
              "          dataTable['output_type'] = 'display_data';\n",
              "          await google.colab.output.renderOutput(dataTable, element);\n",
              "          const docLink = document.createElement('div');\n",
              "          docLink.innerHTML = docLinkHtml;\n",
              "          element.appendChild(docLink);\n",
              "        }\n",
              "      </script>\n",
              "    </div>\n",
              "  </div>\n",
              "  "
            ]
          },
          "metadata": {},
          "execution_count": 79
        }
      ]
    },
    {
      "cell_type": "code",
      "source": [
        "df.shape"
      ],
      "metadata": {
        "colab": {
          "base_uri": "https://localhost:8080/"
        },
        "id": "Qwy7pIxBulYR",
        "outputId": "a2f91ac3-247a-484c-d782-0078406aa0ed"
      },
      "execution_count": null,
      "outputs": [
        {
          "output_type": "execute_result",
          "data": {
            "text/plain": [
              "(100, 5)"
            ]
          },
          "metadata": {},
          "execution_count": 80
        }
      ]
    },
    {
      "cell_type": "markdown",
      "source": [
        "# CRFTagger\n"
      ],
      "metadata": {
        "id": "-2JofjiFw7JI"
      }
    },
    {
      "cell_type": "code",
      "source": [
        "# Convert the 'word' and 'pos' columns to lists\n",
        "words_list = df['words'].tolist()\n",
        "pos_tags_list = df['pos_tags'].tolist()\n",
        "\n",
        "# Create a list of tuples containing the words and POS tags for each row\n",
        "data = list(zip(words_list, pos_tags_list))"
      ],
      "metadata": {
        "id": "YVaaxrO7-eHl"
      },
      "execution_count": null,
      "outputs": []
    },
    {
      "cell_type": "code",
      "source": [
        "# Flatten the train_data and test_data lists\n",
        "train_data_flat = [tuple(zip(sentence[0], sentence[1])) for sentence in data]\n",
        "\n",
        "# Train the CRF Tagger\n",
        "crf_tagger = CRFTagger()\n",
        "crf_tagger.train(train_data_flat, 'model.crf.tagger')"
      ],
      "metadata": {
        "id": "am7E9j_g-MBR"
      },
      "execution_count": null,
      "outputs": []
    },
    {
      "cell_type": "code",
      "source": [
        "# Preprocess new, unseen data and tokenize it\n",
        "new_data = \"لعب الولد الكرة في المدرسة الكبيرة\"\n",
        "tokens = nltk.word_tokenize(new_data)\n",
        "\n",
        "# Use the trained CRF Tagger to predict POS tags for the new data\n",
        "predicted_tags = crf_tagger.tag(tokens)\n",
        "\n",
        "# Print the predicted POS tags\n",
        "for token, tag in predicted_tags:\n",
        "    print(token, tag)"
      ],
      "metadata": {
        "colab": {
          "base_uri": "https://localhost:8080/"
        },
        "id": "pOXg3-9N-oqz",
        "outputId": "c4860e89-6487-4e93-d774-65ea0aad6781"
      },
      "execution_count": null,
      "outputs": [
        {
          "output_type": "stream",
          "name": "stdout",
          "text": [
            "لعب ADJ\n",
            "الولد NOUN\n",
            "الكرة NOUN+NSUFF\n",
            "في PREP\n",
            "المدرسة NOUN+NSUFF\n",
            "الكبيرة ADJ+NSUFF\n"
          ]
        }
      ]
    },
    {
      "cell_type": "code",
      "source": [
        "# Preprocess new, unseen data and tokenize it\n",
        "new_data = \"أرحب بيكم\"\n",
        "tokens = nltk.word_tokenize(new_data)\n",
        "\n",
        "# Use the trained CRF Tagger to predict POS tags for the new data\n",
        "predicted_tags = crf_tagger.tag(tokens)\n",
        "\n",
        "# Print the predicted POS tags\n",
        "for token, tag in predicted_tags:\n",
        "    print(token, tag)"
      ],
      "metadata": {
        "colab": {
          "base_uri": "https://localhost:8080/"
        },
        "id": "ENpwBUtyBBhb",
        "outputId": "bd4cf7ee-7e62-4f06-f1b1-785b94d0841b"
      },
      "execution_count": null,
      "outputs": [
        {
          "output_type": "stream",
          "name": "stdout",
          "text": [
            "أرحب V\n",
            "بيكم PREP+PRON\n"
          ]
        }
      ]
    },
    {
      "cell_type": "code",
      "source": [
        "# Preprocess new, unseen data and tokenize it\n",
        "new_data = \" أدخلوا مصر ان شاء الله امنين \"\n",
        "tokens = nltk.word_tokenize(new_data)\n",
        "\n",
        "# Use the trained CRF Tagger to predict POS tags for the new data\n",
        "predicted_tags = crf_tagger.tag(tokens)\n",
        "\n",
        "# Print the predicted POS tags\n",
        "for token, tag in predicted_tags:\n",
        "    print(token, tag)"
      ],
      "metadata": {
        "colab": {
          "base_uri": "https://localhost:8080/"
        },
        "id": "Iq4kRNVuBF1R",
        "outputId": "042e1f74-9f1b-4a34-9e3d-ee3be53b7ac6"
      },
      "execution_count": null,
      "outputs": [
        {
          "output_type": "stream",
          "name": "stdout",
          "text": [
            "أدخلوا V+PRON\n",
            "مصر NOUN\n",
            "ان PART\n",
            "شاء NOUN\n",
            "الله NOUN+NSUFF\n",
            "امنين ADJ+NSUFF\n"
          ]
        }
      ]
    },
    {
      "cell_type": "markdown",
      "source": [
        "# NetworkX and Plotly(Interactive plot)"
      ],
      "metadata": {
        "id": "SWE-XZGODzfp"
      }
    },
    {
      "cell_type": "code",
      "source": [
        "# Create an empty graph\n",
        "graph = nx.Graph()\n",
        "\n",
        "# Add nodes\n",
        "for token, tag in predicted_tags:\n",
        "    graph.add_node(token, pos_tag=tag)\n",
        "\n",
        "# Add edges\n",
        "for i in range(len(predicted_tags) - 1):\n",
        "    graph.add_edge(predicted_tags[i][0], predicted_tags[i+1][0])\n"
      ],
      "metadata": {
        "id": "B3z0QddJB1Yv"
      },
      "execution_count": null,
      "outputs": []
    },
    {
      "cell_type": "code",
      "source": [
        "# Choose a layout for the graph (e.g., spring_layout)\n",
        "layout = nx.spring_layout(graph)\n"
      ],
      "metadata": {
        "id": "4IvLrqO6B_rQ"
      },
      "execution_count": null,
      "outputs": []
    },
    {
      "cell_type": "code",
      "source": [
        "# Create a Plotly figure\n",
        "fig = go.Figure()\n",
        "\n",
        "# Add nodes to the figure\n",
        "for node in graph.nodes:\n",
        "    x, y = layout[node]\n",
        "    tag = graph.nodes[node]['pos_tag']  # Get the POS tag for the node\n",
        "    fig.add_trace(go.Scatter(x=[x], y=[y], mode='markers', name=node, text=node+' ('+tag+')',\n",
        "                             marker=dict(size=30)))  # Increase the size of the markers\n",
        "\n",
        "# Add edges to the figure\n",
        "for edge in graph.edges:\n",
        "    x0, y0 = layout[edge[0]]\n",
        "    x1, y1 = layout[edge[1]]\n",
        "    fig.add_trace(go.Scatter(x=[x0, x1, None], y=[y0, y1, None], mode='lines'))\n",
        "\n",
        "# Set the title and layout of the figure\n",
        "fig.update_layout(title='POS Tag Network',\n",
        "                  showlegend=False,\n",
        "                  hovermode='closest')\n",
        "\n",
        "fig.show()\n"
      ],
      "metadata": {
        "colab": {
          "base_uri": "https://localhost:8080/",
          "height": 542
        },
        "id": "lt5UO4NVCEFh",
        "outputId": "cbe70e08-b09e-43c6-abf6-e1ef227952f1"
      },
      "execution_count": null,
      "outputs": [
        {
          "output_type": "display_data",
          "data": {
            "text/html": [
              "<html>\n",
              "<head><meta charset=\"utf-8\" /></head>\n",
              "<body>\n",
              "    <div>            <script src=\"https://cdnjs.cloudflare.com/ajax/libs/mathjax/2.7.5/MathJax.js?config=TeX-AMS-MML_SVG\"></script><script type=\"text/javascript\">if (window.MathJax && window.MathJax.Hub && window.MathJax.Hub.Config) {window.MathJax.Hub.Config({SVG: {font: \"STIX-Web\"}});}</script>                <script type=\"text/javascript\">window.PlotlyConfig = {MathJaxConfig: 'local'};</script>\n",
              "        <script src=\"https://cdn.plot.ly/plotly-2.18.2.min.js\"></script>                <div id=\"94800f34-e4d1-4194-a1fd-b9b6e51b73b1\" class=\"plotly-graph-div\" style=\"height:525px; width:100%;\"></div>            <script type=\"text/javascript\">                                    window.PLOTLYENV=window.PLOTLYENV || {};                                    if (document.getElementById(\"94800f34-e4d1-4194-a1fd-b9b6e51b73b1\")) {                    Plotly.newPlot(                        \"94800f34-e4d1-4194-a1fd-b9b6e51b73b1\",                        [{\"marker\":{\"size\":30},\"mode\":\"markers\",\"name\":\"\\u0623\\u062f\\u062e\\u0644\\u0648\\u0627\",\"text\":\"\\u0623\\u062f\\u062e\\u0644\\u0648\\u0627 (V+PRON)\",\"x\":[-0.9999999999999999],\"y\":[0.4241153439651968],\"type\":\"scatter\"},{\"marker\":{\"size\":30},\"mode\":\"markers\",\"name\":\"\\u0645\\u0635\\u0631\",\"text\":\"\\u0645\\u0635\\u0631 (NOUN)\",\"x\":[-0.6381527750643218],\"y\":[0.2715803813976676],\"type\":\"scatter\"},{\"marker\":{\"size\":30},\"mode\":\"markers\",\"name\":\"\\u0627\\u0646\",\"text\":\"\\u0627\\u0646 (PART)\",\"x\":[-0.21588615333199182],\"y\":[0.09298221534956562],\"type\":\"scatter\"},{\"marker\":{\"size\":30},\"mode\":\"markers\",\"name\":\"\\u0634\\u0627\\u0621\",\"text\":\"\\u0634\\u0627\\u0621 (NOUN)\",\"x\":[0.21665665838804687],\"y\":[-0.0907724086797005],\"type\":\"scatter\"},{\"marker\":{\"size\":30},\"mode\":\"markers\",\"name\":\"\\u0627\\u0644\\u0644\\u0647\",\"text\":\"\\u0627\\u0644\\u0644\\u0647 (NOUN+NSUFF)\",\"x\":[0.6378191169798323],\"y\":[-0.2711575843694299],\"type\":\"scatter\"},{\"marker\":{\"size\":30},\"mode\":\"markers\",\"name\":\"\\u0627\\u0645\\u0646\\u064a\\u0646\",\"text\":\"\\u0627\\u0645\\u0646\\u064a\\u0646 (ADJ+NSUFF)\",\"x\":[0.9995631530284343],\"y\":[-0.42674794766329943],\"type\":\"scatter\"},{\"mode\":\"lines\",\"x\":[-0.9999999999999999,-0.6381527750643218,null],\"y\":[0.4241153439651968,0.2715803813976676,null],\"type\":\"scatter\"},{\"mode\":\"lines\",\"x\":[-0.6381527750643218,-0.21588615333199182,null],\"y\":[0.2715803813976676,0.09298221534956562,null],\"type\":\"scatter\"},{\"mode\":\"lines\",\"x\":[-0.21588615333199182,0.21665665838804687,null],\"y\":[0.09298221534956562,-0.0907724086797005,null],\"type\":\"scatter\"},{\"mode\":\"lines\",\"x\":[0.21665665838804687,0.6378191169798323,null],\"y\":[-0.0907724086797005,-0.2711575843694299,null],\"type\":\"scatter\"},{\"mode\":\"lines\",\"x\":[0.6378191169798323,0.9995631530284343,null],\"y\":[-0.2711575843694299,-0.42674794766329943,null],\"type\":\"scatter\"}],                        {\"template\":{\"data\":{\"histogram2dcontour\":[{\"type\":\"histogram2dcontour\",\"colorbar\":{\"outlinewidth\":0,\"ticks\":\"\"},\"colorscale\":[[0.0,\"#0d0887\"],[0.1111111111111111,\"#46039f\"],[0.2222222222222222,\"#7201a8\"],[0.3333333333333333,\"#9c179e\"],[0.4444444444444444,\"#bd3786\"],[0.5555555555555556,\"#d8576b\"],[0.6666666666666666,\"#ed7953\"],[0.7777777777777778,\"#fb9f3a\"],[0.8888888888888888,\"#fdca26\"],[1.0,\"#f0f921\"]]}],\"choropleth\":[{\"type\":\"choropleth\",\"colorbar\":{\"outlinewidth\":0,\"ticks\":\"\"}}],\"histogram2d\":[{\"type\":\"histogram2d\",\"colorbar\":{\"outlinewidth\":0,\"ticks\":\"\"},\"colorscale\":[[0.0,\"#0d0887\"],[0.1111111111111111,\"#46039f\"],[0.2222222222222222,\"#7201a8\"],[0.3333333333333333,\"#9c179e\"],[0.4444444444444444,\"#bd3786\"],[0.5555555555555556,\"#d8576b\"],[0.6666666666666666,\"#ed7953\"],[0.7777777777777778,\"#fb9f3a\"],[0.8888888888888888,\"#fdca26\"],[1.0,\"#f0f921\"]]}],\"heatmap\":[{\"type\":\"heatmap\",\"colorbar\":{\"outlinewidth\":0,\"ticks\":\"\"},\"colorscale\":[[0.0,\"#0d0887\"],[0.1111111111111111,\"#46039f\"],[0.2222222222222222,\"#7201a8\"],[0.3333333333333333,\"#9c179e\"],[0.4444444444444444,\"#bd3786\"],[0.5555555555555556,\"#d8576b\"],[0.6666666666666666,\"#ed7953\"],[0.7777777777777778,\"#fb9f3a\"],[0.8888888888888888,\"#fdca26\"],[1.0,\"#f0f921\"]]}],\"heatmapgl\":[{\"type\":\"heatmapgl\",\"colorbar\":{\"outlinewidth\":0,\"ticks\":\"\"},\"colorscale\":[[0.0,\"#0d0887\"],[0.1111111111111111,\"#46039f\"],[0.2222222222222222,\"#7201a8\"],[0.3333333333333333,\"#9c179e\"],[0.4444444444444444,\"#bd3786\"],[0.5555555555555556,\"#d8576b\"],[0.6666666666666666,\"#ed7953\"],[0.7777777777777778,\"#fb9f3a\"],[0.8888888888888888,\"#fdca26\"],[1.0,\"#f0f921\"]]}],\"contourcarpet\":[{\"type\":\"contourcarpet\",\"colorbar\":{\"outlinewidth\":0,\"ticks\":\"\"}}],\"contour\":[{\"type\":\"contour\",\"colorbar\":{\"outlinewidth\":0,\"ticks\":\"\"},\"colorscale\":[[0.0,\"#0d0887\"],[0.1111111111111111,\"#46039f\"],[0.2222222222222222,\"#7201a8\"],[0.3333333333333333,\"#9c179e\"],[0.4444444444444444,\"#bd3786\"],[0.5555555555555556,\"#d8576b\"],[0.6666666666666666,\"#ed7953\"],[0.7777777777777778,\"#fb9f3a\"],[0.8888888888888888,\"#fdca26\"],[1.0,\"#f0f921\"]]}],\"surface\":[{\"type\":\"surface\",\"colorbar\":{\"outlinewidth\":0,\"ticks\":\"\"},\"colorscale\":[[0.0,\"#0d0887\"],[0.1111111111111111,\"#46039f\"],[0.2222222222222222,\"#7201a8\"],[0.3333333333333333,\"#9c179e\"],[0.4444444444444444,\"#bd3786\"],[0.5555555555555556,\"#d8576b\"],[0.6666666666666666,\"#ed7953\"],[0.7777777777777778,\"#fb9f3a\"],[0.8888888888888888,\"#fdca26\"],[1.0,\"#f0f921\"]]}],\"mesh3d\":[{\"type\":\"mesh3d\",\"colorbar\":{\"outlinewidth\":0,\"ticks\":\"\"}}],\"scatter\":[{\"fillpattern\":{\"fillmode\":\"overlay\",\"size\":10,\"solidity\":0.2},\"type\":\"scatter\"}],\"parcoords\":[{\"type\":\"parcoords\",\"line\":{\"colorbar\":{\"outlinewidth\":0,\"ticks\":\"\"}}}],\"scatterpolargl\":[{\"type\":\"scatterpolargl\",\"marker\":{\"colorbar\":{\"outlinewidth\":0,\"ticks\":\"\"}}}],\"bar\":[{\"error_x\":{\"color\":\"#2a3f5f\"},\"error_y\":{\"color\":\"#2a3f5f\"},\"marker\":{\"line\":{\"color\":\"#E5ECF6\",\"width\":0.5},\"pattern\":{\"fillmode\":\"overlay\",\"size\":10,\"solidity\":0.2}},\"type\":\"bar\"}],\"scattergeo\":[{\"type\":\"scattergeo\",\"marker\":{\"colorbar\":{\"outlinewidth\":0,\"ticks\":\"\"}}}],\"scatterpolar\":[{\"type\":\"scatterpolar\",\"marker\":{\"colorbar\":{\"outlinewidth\":0,\"ticks\":\"\"}}}],\"histogram\":[{\"marker\":{\"pattern\":{\"fillmode\":\"overlay\",\"size\":10,\"solidity\":0.2}},\"type\":\"histogram\"}],\"scattergl\":[{\"type\":\"scattergl\",\"marker\":{\"colorbar\":{\"outlinewidth\":0,\"ticks\":\"\"}}}],\"scatter3d\":[{\"type\":\"scatter3d\",\"line\":{\"colorbar\":{\"outlinewidth\":0,\"ticks\":\"\"}},\"marker\":{\"colorbar\":{\"outlinewidth\":0,\"ticks\":\"\"}}}],\"scattermapbox\":[{\"type\":\"scattermapbox\",\"marker\":{\"colorbar\":{\"outlinewidth\":0,\"ticks\":\"\"}}}],\"scatterternary\":[{\"type\":\"scatterternary\",\"marker\":{\"colorbar\":{\"outlinewidth\":0,\"ticks\":\"\"}}}],\"scattercarpet\":[{\"type\":\"scattercarpet\",\"marker\":{\"colorbar\":{\"outlinewidth\":0,\"ticks\":\"\"}}}],\"carpet\":[{\"aaxis\":{\"endlinecolor\":\"#2a3f5f\",\"gridcolor\":\"white\",\"linecolor\":\"white\",\"minorgridcolor\":\"white\",\"startlinecolor\":\"#2a3f5f\"},\"baxis\":{\"endlinecolor\":\"#2a3f5f\",\"gridcolor\":\"white\",\"linecolor\":\"white\",\"minorgridcolor\":\"white\",\"startlinecolor\":\"#2a3f5f\"},\"type\":\"carpet\"}],\"table\":[{\"cells\":{\"fill\":{\"color\":\"#EBF0F8\"},\"line\":{\"color\":\"white\"}},\"header\":{\"fill\":{\"color\":\"#C8D4E3\"},\"line\":{\"color\":\"white\"}},\"type\":\"table\"}],\"barpolar\":[{\"marker\":{\"line\":{\"color\":\"#E5ECF6\",\"width\":0.5},\"pattern\":{\"fillmode\":\"overlay\",\"size\":10,\"solidity\":0.2}},\"type\":\"barpolar\"}],\"pie\":[{\"automargin\":true,\"type\":\"pie\"}]},\"layout\":{\"autotypenumbers\":\"strict\",\"colorway\":[\"#636efa\",\"#EF553B\",\"#00cc96\",\"#ab63fa\",\"#FFA15A\",\"#19d3f3\",\"#FF6692\",\"#B6E880\",\"#FF97FF\",\"#FECB52\"],\"font\":{\"color\":\"#2a3f5f\"},\"hovermode\":\"closest\",\"hoverlabel\":{\"align\":\"left\"},\"paper_bgcolor\":\"white\",\"plot_bgcolor\":\"#E5ECF6\",\"polar\":{\"bgcolor\":\"#E5ECF6\",\"angularaxis\":{\"gridcolor\":\"white\",\"linecolor\":\"white\",\"ticks\":\"\"},\"radialaxis\":{\"gridcolor\":\"white\",\"linecolor\":\"white\",\"ticks\":\"\"}},\"ternary\":{\"bgcolor\":\"#E5ECF6\",\"aaxis\":{\"gridcolor\":\"white\",\"linecolor\":\"white\",\"ticks\":\"\"},\"baxis\":{\"gridcolor\":\"white\",\"linecolor\":\"white\",\"ticks\":\"\"},\"caxis\":{\"gridcolor\":\"white\",\"linecolor\":\"white\",\"ticks\":\"\"}},\"coloraxis\":{\"colorbar\":{\"outlinewidth\":0,\"ticks\":\"\"}},\"colorscale\":{\"sequential\":[[0.0,\"#0d0887\"],[0.1111111111111111,\"#46039f\"],[0.2222222222222222,\"#7201a8\"],[0.3333333333333333,\"#9c179e\"],[0.4444444444444444,\"#bd3786\"],[0.5555555555555556,\"#d8576b\"],[0.6666666666666666,\"#ed7953\"],[0.7777777777777778,\"#fb9f3a\"],[0.8888888888888888,\"#fdca26\"],[1.0,\"#f0f921\"]],\"sequentialminus\":[[0.0,\"#0d0887\"],[0.1111111111111111,\"#46039f\"],[0.2222222222222222,\"#7201a8\"],[0.3333333333333333,\"#9c179e\"],[0.4444444444444444,\"#bd3786\"],[0.5555555555555556,\"#d8576b\"],[0.6666666666666666,\"#ed7953\"],[0.7777777777777778,\"#fb9f3a\"],[0.8888888888888888,\"#fdca26\"],[1.0,\"#f0f921\"]],\"diverging\":[[0,\"#8e0152\"],[0.1,\"#c51b7d\"],[0.2,\"#de77ae\"],[0.3,\"#f1b6da\"],[0.4,\"#fde0ef\"],[0.5,\"#f7f7f7\"],[0.6,\"#e6f5d0\"],[0.7,\"#b8e186\"],[0.8,\"#7fbc41\"],[0.9,\"#4d9221\"],[1,\"#276419\"]]},\"xaxis\":{\"gridcolor\":\"white\",\"linecolor\":\"white\",\"ticks\":\"\",\"title\":{\"standoff\":15},\"zerolinecolor\":\"white\",\"automargin\":true,\"zerolinewidth\":2},\"yaxis\":{\"gridcolor\":\"white\",\"linecolor\":\"white\",\"ticks\":\"\",\"title\":{\"standoff\":15},\"zerolinecolor\":\"white\",\"automargin\":true,\"zerolinewidth\":2},\"scene\":{\"xaxis\":{\"backgroundcolor\":\"#E5ECF6\",\"gridcolor\":\"white\",\"linecolor\":\"white\",\"showbackground\":true,\"ticks\":\"\",\"zerolinecolor\":\"white\",\"gridwidth\":2},\"yaxis\":{\"backgroundcolor\":\"#E5ECF6\",\"gridcolor\":\"white\",\"linecolor\":\"white\",\"showbackground\":true,\"ticks\":\"\",\"zerolinecolor\":\"white\",\"gridwidth\":2},\"zaxis\":{\"backgroundcolor\":\"#E5ECF6\",\"gridcolor\":\"white\",\"linecolor\":\"white\",\"showbackground\":true,\"ticks\":\"\",\"zerolinecolor\":\"white\",\"gridwidth\":2}},\"shapedefaults\":{\"line\":{\"color\":\"#2a3f5f\"}},\"annotationdefaults\":{\"arrowcolor\":\"#2a3f5f\",\"arrowhead\":0,\"arrowwidth\":1},\"geo\":{\"bgcolor\":\"white\",\"landcolor\":\"#E5ECF6\",\"subunitcolor\":\"white\",\"showland\":true,\"showlakes\":true,\"lakecolor\":\"white\"},\"title\":{\"x\":0.05},\"mapbox\":{\"style\":\"light\"}}},\"title\":{\"text\":\"POS Tag Network\"},\"showlegend\":false,\"hovermode\":\"closest\"},                        {\"responsive\": true}                    ).then(function(){\n",
              "                            \n",
              "var gd = document.getElementById('94800f34-e4d1-4194-a1fd-b9b6e51b73b1');\n",
              "var x = new MutationObserver(function (mutations, observer) {{\n",
              "        var display = window.getComputedStyle(gd).display;\n",
              "        if (!display || display === 'none') {{\n",
              "            console.log([gd, 'removed!']);\n",
              "            Plotly.purge(gd);\n",
              "            observer.disconnect();\n",
              "        }}\n",
              "}});\n",
              "\n",
              "// Listen for the removal of the full notebook cells\n",
              "var notebookContainer = gd.closest('#notebook-container');\n",
              "if (notebookContainer) {{\n",
              "    x.observe(notebookContainer, {childList: true});\n",
              "}}\n",
              "\n",
              "// Listen for the clearing of the current output cell\n",
              "var outputEl = gd.closest('.output');\n",
              "if (outputEl) {{\n",
              "    x.observe(outputEl, {childList: true});\n",
              "}}\n",
              "\n",
              "                        })                };                            </script>        </div>\n",
              "</body>\n",
              "</html>"
            ]
          },
          "metadata": {}
        }
      ]
    },
    {
      "cell_type": "code",
      "source": [],
      "metadata": {
        "id": "bumJ15MQCQaY"
      },
      "execution_count": null,
      "outputs": []
    }
  ]
}